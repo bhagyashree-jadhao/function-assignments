{
  "cells": [
    {
      "cell_type": "markdown",
      "metadata": {
        "id": "view-in-github",
        "colab_type": "text"
      },
      "source": [
        "<a href=\"https://colab.research.google.com/github/bhagyashree-jadhao/function-assignments/blob/main/function_assignment.ipynb\" target=\"_parent\"><img src=\"https://colab.research.google.com/assets/colab-badge.svg\" alt=\"Open In Colab\"/></a>"
      ]
    },
    {
      "cell_type": "markdown",
      "id": "12e2f05f-7323-45d5-aafb-e3a1feac75d1",
      "metadata": {
        "id": "12e2f05f-7323-45d5-aafb-e3a1feac75d1"
      },
      "source": [
        "## Fuction Theory assignments 3"
      ]
    },
    {
      "cell_type": "markdown",
      "source": [
        "What is the difference between a function and a method in Python?"
      ],
      "metadata": {
        "id": "--nalm8KW-9y"
      },
      "id": "--nalm8KW-9y"
    },
    {
      "cell_type": "markdown",
      "source": [
        "### 1. What is the difference between a function and a method in Python?\n",
        " ans:- **function** is  block of code that perform specific task. it define outside of class . it called by name followed by '()' paranthesis it may or may not be contain arguments. it has its own namespace anf its variable ar not  bound to any object. exmple like len(),type(),print(),input() .\n",
        "** Method**   define inside of class and is part of the class or object.\n",
        "we can call method by using '.' dot notation, e.g like list.sort(), list.pop(), str.upper(),and many more  see more example"
      ],
      "metadata": {
        "id": "o3spakJuwsAP"
      },
      "id": "o3spakJuwsAP"
    },
    {
      "cell_type": "code",
      "source": [
        "# example of fuction\n",
        "def add(a,b): # function declaration\n",
        "  return a+b\n",
        "add(6,7) # function class\n",
        "\n"
      ],
      "metadata": {
        "colab": {
          "base_uri": "https://localhost:8080/"
        },
        "id": "ZZWl99gupr5N",
        "outputId": "b7f5eb9c-9aac-49f0-c30f-f88d7f720a83"
      },
      "id": "ZZWl99gupr5N",
      "execution_count": null,
      "outputs": [
        {
          "output_type": "execute_result",
          "data": {
            "text/plain": [
              "13"
            ]
          },
          "metadata": {},
          "execution_count": 12
        }
      ]
    },
    {
      "cell_type": "code",
      "source": [
        "# Example of Method\n",
        "class Student:\n",
        "  def display(): # metod declaratin inside class\n",
        "    print(\"Welcome to  class \")\n",
        "  def total_marks(a,b,c):\n",
        "    print(a+b+c)\n",
        "s=Student\n",
        "s.display() # access/called display metthod by using obj name follwed by .\n",
        "s.total_marks(50,60,70)"
      ],
      "metadata": {
        "colab": {
          "base_uri": "https://localhost:8080/"
        },
        "id": "UZGswM8ervzg",
        "outputId": "bab6417e-5689-4c7a-9644-10d3ef765e27"
      },
      "id": "UZGswM8ervzg",
      "execution_count": null,
      "outputs": [
        {
          "output_type": "stream",
          "name": "stdout",
          "text": [
            "Welcome to  class \n",
            "180\n"
          ]
        }
      ]
    },
    {
      "cell_type": "markdown",
      "source": [
        "### Explain the concept of function arguments and parameters in Python.\n",
        "\n",
        "ans :-- Parameters are the variables listed inside the parentheses of function definition.\n",
        " Like placeholders for the data that function accepts when we call them.\n",
        " Arguments are the actual values that we pass to the function when we call it.\n",
        " Arguments replace the parameters when the function executes.\n",
        " see example"
      ],
      "metadata": {
        "id": "zwmQ11fWsdbd"
      },
      "id": "zwmQ11fWsdbd"
    },
    {
      "cell_type": "code",
      "source": [
        "def add(a,b): # a and b is parameter used at funtion declaration\n",
        "  return a+b\n",
        "add(6,7) # 6 and 7 is actual value pased during the function called  is known as argument"
      ],
      "metadata": {
        "colab": {
          "base_uri": "https://localhost:8080/"
        },
        "id": "9OeQ7ToFu0OS",
        "outputId": "2e0699b6-761d-4bb0-88d4-6d1a3b5e6a1e"
      },
      "id": "9OeQ7ToFu0OS",
      "execution_count": null,
      "outputs": [
        {
          "output_type": "execute_result",
          "data": {
            "text/plain": [
              "13"
            ]
          },
          "metadata": {},
          "execution_count": 14
        }
      ]
    },
    {
      "cell_type": "markdown",
      "source": [
        "### 3. What are the different ways to define and call a function in Python?\n",
        "\n",
        "ans:- we can define and caleld function in diffenrt way like function with positional argument we can pass the argument at a peticular posional/placed.\n",
        "function with keyword argument we can pass te argument with key name and value ,\n",
        "function with default argument passed the default argument at time of function declaration in case you forgot to passed the argument at a function called then by default argument will be consider.\n",
        "function with variable length argument we can passed the more the one argument used the *args.\n",
        "function with keyword variable  argument we can passed the argument with key name using **kwargs.\n",
        "see the examle below\n",
        "\n"
      ],
      "metadata": {
        "id": "zNNiqtVDvxSz"
      },
      "id": "zNNiqtVDvxSz"
    },
    {
      "cell_type": "code",
      "source": [
        "# function with positional argument\n",
        "def mult(a,b,name):\n",
        "  return name,a*b\n",
        "\n",
        "mult(4,5,'hello')\n"
      ],
      "metadata": {
        "colab": {
          "base_uri": "https://localhost:8080/"
        },
        "id": "XEi7_5n5ySeS",
        "outputId": "da487668-35a0-4ec0-d1bc-f3e68f1f7805"
      },
      "id": "XEi7_5n5ySeS",
      "execution_count": null,
      "outputs": [
        {
          "output_type": "execute_result",
          "data": {
            "text/plain": [
              "('hello', 20)"
            ]
          },
          "metadata": {},
          "execution_count": 19
        }
      ]
    },
    {
      "cell_type": "code",
      "source": [
        "# function with keyword argument\n",
        "def add(a,b): # finction define\n",
        "  return a+b\n",
        "add(a=6,b=7) # called function with keyword arguments a=6 and b=7"
      ],
      "metadata": {
        "colab": {
          "base_uri": "https://localhost:8080/"
        },
        "id": "ITCgEtcLzhpJ",
        "outputId": "3cce2a4f-8dfc-4464-d351-fc2d903199a5"
      },
      "id": "ITCgEtcLzhpJ",
      "execution_count": null,
      "outputs": [
        {
          "output_type": "execute_result",
          "data": {
            "text/plain": [
              "13"
            ]
          },
          "metadata": {},
          "execution_count": 20
        }
      ]
    },
    {
      "cell_type": "code",
      "source": [
        "# function with default argument\n",
        "def sum(a,b=5): # we have set b=5 is default value if b\n",
        "  return a+b\n",
        "sum(6)"
      ],
      "metadata": {
        "colab": {
          "base_uri": "https://localhost:8080/"
        },
        "id": "c4-sgaP7z38f",
        "outputId": "0fb91296-2446-4726-d516-020f41288922"
      },
      "id": "c4-sgaP7z38f",
      "execution_count": null,
      "outputs": [
        {
          "output_type": "execute_result",
          "data": {
            "text/plain": [
              "11"
            ]
          },
          "metadata": {},
          "execution_count": 21
        }
      ]
    },
    {
      "cell_type": "code",
      "source": [
        "# function with variable length argumnet\n",
        "def sum_of_ele(*args): # *args is variable length we can pass the n no of argumnts/or sequence of element\n",
        "  sum=0\n",
        "  for i in args:\n",
        "    sum+=i\n",
        "  return sum\n",
        "sum_of_ele(1,2,3,4,5,6) # passed the element with tulple format"
      ],
      "metadata": {
        "colab": {
          "base_uri": "https://localhost:8080/"
        },
        "id": "cRab8C9q0JMh",
        "outputId": "49071129-727d-46ec-bae2-7829b31ba1c6"
      },
      "id": "cRab8C9q0JMh",
      "execution_count": null,
      "outputs": [
        {
          "output_type": "execute_result",
          "data": {
            "text/plain": [
              "21"
            ]
          },
          "metadata": {},
          "execution_count": 22
        }
      ]
    },
    {
      "cell_type": "code",
      "source": [
        "# function with keyword variable length arguments\n",
        "def student_data(**kwargs):\n",
        "  return kwargs\n",
        "student_data(roll_no=101,name='Ram',mob=45678,marks=67)"
      ],
      "metadata": {
        "colab": {
          "base_uri": "https://localhost:8080/"
        },
        "id": "yt__b6et1CmY",
        "outputId": "5f58ebc1-4a63-45c1-e3f4-1cbb57ebe4f1"
      },
      "id": "yt__b6et1CmY",
      "execution_count": null,
      "outputs": [
        {
          "output_type": "execute_result",
          "data": {
            "text/plain": [
              "{'roll_no': 101, 'name': 'Ram', 'mob': 45678, 'marks': 67}"
            ]
          },
          "metadata": {},
          "execution_count": 23
        }
      ]
    },
    {
      "cell_type": "markdown",
      "source": [
        "### 4. What is the purpose of the return statement in a Python function?\n",
        "ans . - return statement use in function it return the value . in finction if you want to return same value then instead of using print we can use return statment. also we can use this value in future refernce and return statment it stored the value . see example\n",
        "\n"
      ],
      "metadata": {
        "id": "p5am5QuM2Fb5"
      },
      "id": "p5am5QuM2Fb5"
    },
    {
      "cell_type": "code",
      "source": [
        "def sub(a,b):\n",
        "  return a-b\n",
        "#sub(10,5)"
      ],
      "metadata": {
        "colab": {
          "base_uri": "https://localhost:8080/"
        },
        "id": "vmWcuPtK9OS1",
        "outputId": "2124b682-1625-44a0-a40a-e72f2ba627ca"
      },
      "id": "vmWcuPtK9OS1",
      "execution_count": null,
      "outputs": [
        {
          "output_type": "execute_result",
          "data": {
            "text/plain": [
              "5"
            ]
          },
          "metadata": {},
          "execution_count": 1
        }
      ]
    },
    {
      "cell_type": "code",
      "source": [
        "value=sub(20,10)\n",
        "print(value)"
      ],
      "metadata": {
        "colab": {
          "base_uri": "https://localhost:8080/"
        },
        "id": "0CCq5U169eIK",
        "outputId": "c997ee09-011f-408b-e147-7c6a34cf5213"
      },
      "id": "0CCq5U169eIK",
      "execution_count": null,
      "outputs": [
        {
          "output_type": "stream",
          "name": "stdout",
          "text": [
            "10\n"
          ]
        }
      ]
    },
    {
      "cell_type": "code",
      "source": [
        "type(value)"
      ],
      "metadata": {
        "colab": {
          "base_uri": "https://localhost:8080/"
        },
        "id": "vn4FDQ0X9qHD",
        "outputId": "cedcd139-1b1c-4f95-a222-c38878a2d2ce"
      },
      "id": "vn4FDQ0X9qHD",
      "execution_count": null,
      "outputs": [
        {
          "output_type": "execute_result",
          "data": {
            "text/plain": [
              "int"
            ]
          },
          "metadata": {},
          "execution_count": 5
        }
      ]
    },
    {
      "cell_type": "markdown",
      "source": [
        "### 5. What are iterators in Python and how do they differ from iterables?\n",
        " ans . iterator is an object representing a stream of data return a data one .\n",
        " Iterator in python is an object that is used to iterate over iterable objects like lists, tuples, dicts, and sets. The\n",
        "iterator object is initialized using the `iter()` method. It uses the `next()` method for iteration.\n",
        "see example\n",
        "terator:- it intermediate stage where we create an object that can be iterated. iteration:- the process of returning element one by one tat can be iteration. iterable:-- an iterable is a container that can store multiple values and return them one by one\n"
      ],
      "metadata": {
        "id": "kAj0GSc3-DAc"
      },
      "id": "kAj0GSc3-DAc"
    },
    {
      "cell_type": "code",
      "source": [
        "s=\"Welcome\" # string is iterable\n",
        "string=iter(s) # create a object that can be iterated nothing but iterator\n",
        "print(string)\n",
        "print(next(string))\n",
        "print(next(string))\n",
        "print(next(string))\n",
        "print(next(string))\n",
        "print(next(string))\n",
        "print(next(string))\n",
        "print(next(string))"
      ],
      "metadata": {
        "id": "rFEhgPjP4gRg",
        "colab": {
          "base_uri": "https://localhost:8080/"
        },
        "outputId": "0f2d8c93-bff7-466c-a5cd-0ae2beef9e0c"
      },
      "id": "rFEhgPjP4gRg",
      "execution_count": 7,
      "outputs": [
        {
          "output_type": "stream",
          "name": "stdout",
          "text": [
            "<str_iterator object at 0x7cc8352afc40>\n",
            "W\n",
            "e\n",
            "l\n",
            "c\n",
            "o\n",
            "m\n",
            "e\n"
          ]
        }
      ]
    },
    {
      "cell_type": "code",
      "source": [],
      "metadata": {
        "id": "s75OKXn04dla"
      },
      "id": "s75OKXn04dla",
      "execution_count": null,
      "outputs": []
    },
    {
      "cell_type": "markdown",
      "source": [
        "### 6. Explain the concept of generators in Python and how they are defined.\n",
        "ans:-- generator:- it is used to create function that returns an iterator object. use case is that the code that contain lot of computation it might be take sometime of execution we can used that generator. Generators are memory-efficient because they don't store all values in memory at once. Each value is generated and consumed one at a time, making them suitable for working with large datasets or when memory usage is a concern.\n",
        "we can used the yeild keyword to return the iteratable object see example\n"
      ],
      "metadata": {
        "id": "A2xeDfRV-JUR"
      },
      "id": "A2xeDfRV-JUR"
    },
    {
      "cell_type": "code",
      "source": [
        "def fib(n):\n",
        "  a,b=0,1\n",
        "  for i in range(n):\n",
        "    yield a\n",
        "    a,b=b,a+b\n"
      ],
      "metadata": {
        "id": "s1onVi-QCHuA"
      },
      "id": "s1onVi-QCHuA",
      "execution_count": 16,
      "outputs": []
    },
    {
      "cell_type": "code",
      "source": [
        "f=fib(6)\n",
        "print(next(f))\n",
        "print(next(f))\n",
        "print(next(f))\n",
        "print(next(f))\n",
        "print(next(f))\n",
        "print(next(f))\n"
      ],
      "metadata": {
        "colab": {
          "base_uri": "https://localhost:8080/"
        },
        "id": "YhhcBXi_CmvC",
        "outputId": "bae1d2d5-6ccd-43dc-e3ed-8227aeead258"
      },
      "id": "YhhcBXi_CmvC",
      "execution_count": 21,
      "outputs": [
        {
          "output_type": "stream",
          "name": "stdout",
          "text": [
            "0\n",
            "1\n",
            "1\n",
            "2\n",
            "3\n",
            "5\n"
          ]
        }
      ]
    },
    {
      "cell_type": "markdown",
      "source": [
        "### 7 7. What are the advantages of using generators over regular functions?\n",
        "ans:-  A generator function is defined like a normal function, but it uses the yield keyword instead of return.\n",
        "When the generator function is called, it doesn’t execute immediately. Instead, it returns a generator object.\n",
        "second thing is memory utilization , Generators are memory-efficient because they don't store all values in memory at once. Each value is generated and consumed one at a time, making them suitable for working with large datasets or when memory usage is a concern.\n",
        "One of the biggest advantages of generators is that they are memory efficient. Since a generator yields its values one by one, it does not need to store all of the values in memory at once. ...\n",
        "Readability: Generators can make your code easier to read and understand. ...\n",
        "Speed: Generators can also be faster than regular loops, especially when working with large data sets."
      ],
      "metadata": {
        "id": "-4OKvkGF-SBp"
      },
      "id": "-4OKvkGF-SBp"
    },
    {
      "cell_type": "code",
      "source": [
        "def tables(n):\n",
        "  for i in range(n):\n",
        "    return n*i\n",
        "tables(5)\n"
      ],
      "metadata": {
        "colab": {
          "base_uri": "https://localhost:8080/"
        },
        "id": "9r-xYQqCCl-n",
        "outputId": "7b23048b-279a-46fb-8a9b-8f712e5de282"
      },
      "id": "9r-xYQqCCl-n",
      "execution_count": 31,
      "outputs": [
        {
          "output_type": "execute_result",
          "data": {
            "text/plain": [
              "0"
            ]
          },
          "metadata": {},
          "execution_count": 31
        }
      ]
    },
    {
      "cell_type": "code",
      "source": [
        "def tables(n):\n",
        "  a=[]\n",
        "  for i in range(1,11):\n",
        "    a.append(n*i)\n",
        "  return a\n",
        "tables(5)"
      ],
      "metadata": {
        "colab": {
          "base_uri": "https://localhost:8080/"
        },
        "id": "qjGCgA3tFhTT",
        "outputId": "6d22b252-1c4c-46f9-823e-c1be2ccb1515"
      },
      "id": "qjGCgA3tFhTT",
      "execution_count": 38,
      "outputs": [
        {
          "output_type": "execute_result",
          "data": {
            "text/plain": [
              "[5, 10, 15, 20, 25, 30, 35, 40, 45, 50]"
            ]
          },
          "metadata": {},
          "execution_count": 38
        }
      ]
    },
    {
      "cell_type": "code",
      "source": [
        "def tables_generator(n):\n",
        "  for i in range(1,11):\n",
        "    yield n*i"
      ],
      "metadata": {
        "id": "mD3vZa7GGmnU"
      },
      "id": "mD3vZa7GGmnU",
      "execution_count": 47,
      "outputs": []
    },
    {
      "cell_type": "code",
      "source": [
        "t=tables_generator(5)\n",
        "print(next(t))\n",
        "print(next(t))\n",
        "print(next(t))\n",
        "print(next(t))\n",
        "print(next(t))\n",
        "print(next(t))\n",
        "print(next(t))\n",
        "print(next(t))\n",
        "print(next(t))\n",
        "print(next(t))\n"
      ],
      "metadata": {
        "colab": {
          "base_uri": "https://localhost:8080/"
        },
        "id": "meXMtPjwG1Y6",
        "outputId": "37de0a60-955a-45e9-82ce-ce80d62475ea"
      },
      "id": "meXMtPjwG1Y6",
      "execution_count": 48,
      "outputs": [
        {
          "output_type": "stream",
          "name": "stdout",
          "text": [
            "5\n",
            "10\n",
            "15\n",
            "20\n",
            "25\n",
            "30\n",
            "35\n",
            "40\n",
            "45\n",
            "50\n"
          ]
        }
      ]
    },
    {
      "cell_type": "code",
      "source": [
        "print(next(t))\n"
      ],
      "metadata": {
        "colab": {
          "base_uri": "https://localhost:8080/"
        },
        "id": "JKl1LA7QHDaA",
        "outputId": "47f70431-6980-421a-f4aa-2e64d7b5d340"
      },
      "id": "JKl1LA7QHDaA",
      "execution_count": 43,
      "outputs": [
        {
          "output_type": "stream",
          "name": "stdout",
          "text": [
            "5\n"
          ]
        }
      ]
    },
    {
      "cell_type": "markdown",
      "source": [
        "### 8. What is a lambda function in Python and when is it typically used?\n",
        "\n",
        "ans . - lambda is annonmous function or nameless function. there is no need ti define a def keyword , there is not requirment to used return statments lambda, it create function i only one line statement  function take a 2 statament one in parameter and second is expression syntax is\n",
        "result=lambda x: expression   "
      ],
      "metadata": {
        "id": "eWdAPhs3-Ve7"
      },
      "id": "eWdAPhs3-Ve7"
    },
    {
      "cell_type": "code",
      "source": [],
      "metadata": {
        "id": "ZuGSTXpwG0n-"
      },
      "id": "ZuGSTXpwG0n-",
      "execution_count": null,
      "outputs": []
    },
    {
      "cell_type": "code",
      "source": [
        "# lambda code\n",
        "sum=lambda a,b:a+b\n",
        "print(sum)"
      ],
      "metadata": {
        "colab": {
          "base_uri": "https://localhost:8080/"
        },
        "id": "q9-CpD6g_wBV",
        "outputId": "dd97d1d2-91ac-4412-ebec-f070f5a14284"
      },
      "id": "q9-CpD6g_wBV",
      "execution_count": null,
      "outputs": [
        {
          "output_type": "stream",
          "name": "stdout",
          "text": [
            "<function <lambda> at 0x7965d616c8b0>\n"
          ]
        }
      ]
    },
    {
      "cell_type": "markdown",
      "source": [
        "### 9. Explain the purpose and usage of the `map()` function in Python.\n",
        "\n",
        "ans - . it can apply the functionlity of each element of sequence and it generated the new modified result .\n",
        "syntax  map(function_name,sequece)\n",
        "map take 2 arguments one is function and second is sequence it may be list, tuple,set,dict. see example\n",
        "\n",
        "\n"
      ],
      "metadata": {
        "id": "MnEm7PsD-eZv"
      },
      "id": "MnEm7PsD-eZv"
    },
    {
      "cell_type": "code",
      "source": [
        "# list contain the 1 to 10 number and create the new list with squre of each element we can used map\n",
        "l=[1,2,3,4,4,5,6,7,7,8,9,10,11]\n",
        "squere_list=list(map(lambda x:x**2,l))\n",
        "squere_list"
      ],
      "metadata": {
        "colab": {
          "base_uri": "https://localhost:8080/"
        },
        "id": "N1iOrpM9A3Nc",
        "outputId": "1a4310f5-2da9-4afb-8490-1d2aecc8b611"
      },
      "id": "N1iOrpM9A3Nc",
      "execution_count": null,
      "outputs": [
        {
          "output_type": "execute_result",
          "data": {
            "text/plain": [
              "[1, 4, 9, 16, 16, 25, 36, 49, 49, 64, 81, 100, 121]"
            ]
          },
          "metadata": {},
          "execution_count": 8
        }
      ]
    },
    {
      "cell_type": "markdown",
      "source": [
        "###  10. What is the difference between `map()`, `reduce()`, and `filter()` functions in Python?\n",
        " ans . map() we can apply the some opration or function on squenece and it generate the new modified sequence.\n",
        " reduce() , use to reduce the sequence and it generate the only single value\n",
        " filter()  filter () function used to if we want to filter  out  the data from the sequence and it genereted the new sequence, returning only the elements that satisfy a given condition."
      ],
      "metadata": {
        "id": "SD36R1I0-oKA"
      },
      "id": "SD36R1I0-oKA"
    },
    {
      "cell_type": "code",
      "source": [
        "#example\n",
        "l=[1,2,3,4,5,6,7,8,9,10,11,12,12,13,14,15]\n",
        "# to find out the element wwhich is divisible by 5 we can use the filter\n",
        "divisible_by_five=list(filter(lambda x:x%5==0,l))\n",
        "print(divisible_by_five)\n",
        "# to print the cube of each element here we can apply the function on sequence and generted new result\n",
        "cube_list=list(map(lambda x:x**3,l))\n",
        "print(cube_list)\n",
        "# here print the sum of all elemennt thatare preset in list used reduce\n",
        "import functools as ft\n",
        "r=ft.reduce(lambda x,y:x+y,l)\n",
        "print(r)"
      ],
      "metadata": {
        "colab": {
          "base_uri": "https://localhost:8080/"
        },
        "id": "pWsAN9hHFK3G",
        "outputId": "8f094ba6-a42e-478f-8710-fd15b7116c62"
      },
      "id": "pWsAN9hHFK3G",
      "execution_count": null,
      "outputs": [
        {
          "output_type": "stream",
          "name": "stdout",
          "text": [
            "[5, 10, 15]\n",
            "[1, 8, 27, 64, 125, 216, 343, 512, 729, 1000, 1331, 1728, 1728, 2197, 2744, 3375]\n",
            "132\n"
          ]
        }
      ]
    },
    {
      "cell_type": "markdown",
      "source": [
        "\n",
        "### (Attach paper image for this answer) in doc or colab notebook.11. Using pen & Paper write the internal mechanism for sum operation using  reduce function on this given list:[47,11,42,13];\n",
        "ans link :-> https://drive.google.com/drive/folders/19eJ1f3hCMaQECPWhB3kaW7kB3YdFCOSk?usp=sharing"
      ],
      "metadata": {
        "id": "vni_oMYjXQIr"
      },
      "id": "vni_oMYjXQIr"
    },
    {
      "cell_type": "code",
      "source": [
        "#using redue\n",
        "l=[47,11,42,13]\n",
        "import functools as ft\n",
        "r=ft.reduce(lambda x,y:x+y,l)\n",
        "print(r)\n"
      ],
      "metadata": {
        "id": "anvp8fQkMOoW",
        "colab": {
          "base_uri": "https://localhost:8080/"
        },
        "outputId": "470708b8-6539-4049-f288-8855e833c956"
      },
      "id": "anvp8fQkMOoW",
      "execution_count": null,
      "outputs": [
        {
          "output_type": "stream",
          "name": "stdout",
          "text": [
            "113\n"
          ]
        }
      ]
    },
    {
      "cell_type": "markdown",
      "source": [],
      "metadata": {
        "id": "qs8m4hhF-CAx"
      },
      "id": "qs8m4hhF-CAx"
    },
    {
      "cell_type": "markdown",
      "source": [
        "## **Function Programming assignments 3**"
      ],
      "metadata": {
        "id": "FeQidBLVCKV6"
      },
      "id": "FeQidBLVCKV6"
    },
    {
      "cell_type": "markdown",
      "id": "55b79d7b-1f27-484d-9982-46c62e3778de",
      "metadata": {
        "id": "55b79d7b-1f27-484d-9982-46c62e3778de"
      },
      "source": [
        "#  1).Write a Python function that takes a list of numbers as input and returns the sum of all even numbers in the list."
      ]
    },
    {
      "cell_type": "code",
      "execution_count": null,
      "id": "b734a192-0497-4612-afe6-3ddffce23c59",
      "metadata": {
        "id": "b734a192-0497-4612-afe6-3ddffce23c59"
      },
      "outputs": [],
      "source": [
        "def sum_of_even_num():\n",
        "    l=[]\n",
        "    n=int(input(\"How  many number you want to enter into list? \"))\n",
        "    for i in range(n):\n",
        "        number=int(input(\"Enter the number\"))\n",
        "        l.append(number)\n",
        "    sum=0\n",
        "    for num in l:\n",
        "        if num%2==0:\n",
        "            sum+=num\n",
        "    print(f\"list is : {l} and sum of the even number in the  is sum:{sum}\")"
      ]
    },
    {
      "cell_type": "code",
      "execution_count": null,
      "id": "2173f92d-4a51-4b76-918f-20868a61c285",
      "metadata": {
        "id": "2173f92d-4a51-4b76-918f-20868a61c285",
        "outputId": "94fb3a42-598c-4bac-9b21-3afbcf6d0b43"
      },
      "outputs": [
        {
          "name": "stdin",
          "output_type": "stream",
          "text": [
            "How  many number you want to enter into list?  5\n",
            "Enter the number 111\n",
            "Enter the number 121\n",
            "Enter the number 131\n",
            "Enter the number 144\n",
            "Enter the number 50\n"
          ]
        },
        {
          "name": "stdout",
          "output_type": "stream",
          "text": [
            "list is : [111, 121, 131, 144, 50] and sum of the even number in the  is sum:194\n"
          ]
        }
      ],
      "source": [
        "sum_of_even_num()"
      ]
    },
    {
      "cell_type": "markdown",
      "id": "8730b9b4-3d08-4025-95bc-2e4f011e5b76",
      "metadata": {
        "id": "8730b9b4-3d08-4025-95bc-2e4f011e5b76"
      },
      "source": [
        "# 2) Create a Python function that accepts a string and returns the reverse of that string."
      ]
    },
    {
      "cell_type": "code",
      "execution_count": null,
      "id": "c05d3036-f59a-4de7-99ce-86da3fe771cc",
      "metadata": {
        "id": "c05d3036-f59a-4de7-99ce-86da3fe771cc"
      },
      "outputs": [],
      "source": [
        "def reverse_string():\n",
        "    string=input(\"enter the string: \")\n",
        "    print(string)\n",
        "    return f\" reverser string of {string} is : {string[::-1]}\""
      ]
    },
    {
      "cell_type": "code",
      "execution_count": null,
      "id": "457dd7be-9234-4642-8f7b-6537cd819dc9",
      "metadata": {
        "id": "457dd7be-9234-4642-8f7b-6537cd819dc9",
        "outputId": "0b210de0-d662-44ff-9aca-365b66ab1c1e"
      },
      "outputs": [
        {
          "name": "stdin",
          "output_type": "stream",
          "text": [
            "enter the string:  welcome to python\n"
          ]
        },
        {
          "name": "stdout",
          "output_type": "stream",
          "text": [
            "welcome to python\n"
          ]
        },
        {
          "data": {
            "text/plain": [
              "' reverser string of welcome to python is : nohtyp ot emoclew'"
            ]
          },
          "execution_count": 27,
          "metadata": {},
          "output_type": "execute_result"
        }
      ],
      "source": [
        "reverse_string()"
      ]
    },
    {
      "cell_type": "markdown",
      "source": [
        "# 3)Implement a Python function that takes a list of integers and returns a new list containing the squares of each number"
      ],
      "metadata": {
        "id": "WLeErYXEzScU"
      },
      "id": "WLeErYXEzScU"
    },
    {
      "cell_type": "code",
      "source": [
        "def squares_of_numbers():\n",
        "  list1=[]\n",
        "  n=int((input(\"How many number you want to enter into list? \")))\n",
        "  for i in range(n):\n",
        "    num=int(input(\"Enter the number\"))\n",
        "    list1.append(num)\n",
        "  square_list=[]\n",
        "  for i in list1:\n",
        "      square_list.append(i**2)\n",
        "  return f\"list is {list1} square of each number in list is:-{square_list}\"\n"
      ],
      "metadata": {
        "id": "xCyT30WSz6qZ"
      },
      "id": "xCyT30WSz6qZ",
      "execution_count": null,
      "outputs": []
    },
    {
      "cell_type": "code",
      "source": [
        "squares_of_numbers()"
      ],
      "metadata": {
        "colab": {
          "base_uri": "https://localhost:8080/",
          "height": 105
        },
        "id": "7zL3iCJy18s1",
        "outputId": "372b3f15-2417-466b-e064-4a9bb04482c3"
      },
      "id": "7zL3iCJy18s1",
      "execution_count": null,
      "outputs": [
        {
          "name": "stdout",
          "output_type": "stream",
          "text": [
            "How many number you want to enter into list? 3\n",
            "Enter the number5\n",
            "Enter the number7\n",
            "Enter the number9\n"
          ]
        },
        {
          "output_type": "execute_result",
          "data": {
            "text/plain": [
              "'list is [5, 7, 9] square of each number in list is:-[25, 49, 81]'"
            ],
            "application/vnd.google.colaboratory.intrinsic+json": {
              "type": "string"
            }
          },
          "metadata": {},
          "execution_count": 16
        }
      ]
    },
    {
      "cell_type": "markdown",
      "source": [
        "# 4). Write a Python function that checks if a given number is prime or not from 1 to 200"
      ],
      "metadata": {
        "id": "TCIwcriL3l09"
      },
      "id": "TCIwcriL3l09"
    },
    {
      "cell_type": "code",
      "source": [
        "def check_prime_number():\n",
        "  start=int(input(\"Enter the starting number \"))\n",
        "  end=int(input(\"Enter the ending number\"))\n",
        "  for num in range(start,end):\n",
        "    for no in range(2,num):\n",
        "      if num%no==0:\n",
        "        print(f\"{num} is not  prime\" )\n",
        "        break\n",
        "    else:\n",
        "          print(f\"{num} is  prime\")\n"
      ],
      "metadata": {
        "id": "Cgqz1I662GeT"
      },
      "id": "Cgqz1I662GeT",
      "execution_count": null,
      "outputs": []
    },
    {
      "cell_type": "code",
      "source": [
        "check_prime_number()"
      ],
      "metadata": {
        "colab": {
          "base_uri": "https://localhost:8080/"
        },
        "id": "qWMy-MsJ7B3H",
        "outputId": "2cfe92b8-478d-4c99-a86b-8790f54d8ef3"
      },
      "id": "qWMy-MsJ7B3H",
      "execution_count": null,
      "outputs": [
        {
          "output_type": "stream",
          "name": "stdout",
          "text": [
            "Enter the starting number 1\n",
            "Enter the ending number200\n",
            "1 is  prime\n",
            "2 is  prime\n",
            "3 is  prime\n",
            "4 is not  prime\n",
            "5 is  prime\n",
            "6 is not  prime\n",
            "7 is  prime\n",
            "8 is not  prime\n",
            "9 is not  prime\n",
            "10 is not  prime\n",
            "11 is  prime\n",
            "12 is not  prime\n",
            "13 is  prime\n",
            "14 is not  prime\n",
            "15 is not  prime\n",
            "16 is not  prime\n",
            "17 is  prime\n",
            "18 is not  prime\n",
            "19 is  prime\n",
            "20 is not  prime\n",
            "21 is not  prime\n",
            "22 is not  prime\n",
            "23 is  prime\n",
            "24 is not  prime\n",
            "25 is not  prime\n",
            "26 is not  prime\n",
            "27 is not  prime\n",
            "28 is not  prime\n",
            "29 is  prime\n",
            "30 is not  prime\n",
            "31 is  prime\n",
            "32 is not  prime\n",
            "33 is not  prime\n",
            "34 is not  prime\n",
            "35 is not  prime\n",
            "36 is not  prime\n",
            "37 is  prime\n",
            "38 is not  prime\n",
            "39 is not  prime\n",
            "40 is not  prime\n",
            "41 is  prime\n",
            "42 is not  prime\n",
            "43 is  prime\n",
            "44 is not  prime\n",
            "45 is not  prime\n",
            "46 is not  prime\n",
            "47 is  prime\n",
            "48 is not  prime\n",
            "49 is not  prime\n",
            "50 is not  prime\n",
            "51 is not  prime\n",
            "52 is not  prime\n",
            "53 is  prime\n",
            "54 is not  prime\n",
            "55 is not  prime\n",
            "56 is not  prime\n",
            "57 is not  prime\n",
            "58 is not  prime\n",
            "59 is  prime\n",
            "60 is not  prime\n",
            "61 is  prime\n",
            "62 is not  prime\n",
            "63 is not  prime\n",
            "64 is not  prime\n",
            "65 is not  prime\n",
            "66 is not  prime\n",
            "67 is  prime\n",
            "68 is not  prime\n",
            "69 is not  prime\n",
            "70 is not  prime\n",
            "71 is  prime\n",
            "72 is not  prime\n",
            "73 is  prime\n",
            "74 is not  prime\n",
            "75 is not  prime\n",
            "76 is not  prime\n",
            "77 is not  prime\n",
            "78 is not  prime\n",
            "79 is  prime\n",
            "80 is not  prime\n",
            "81 is not  prime\n",
            "82 is not  prime\n",
            "83 is  prime\n",
            "84 is not  prime\n",
            "85 is not  prime\n",
            "86 is not  prime\n",
            "87 is not  prime\n",
            "88 is not  prime\n",
            "89 is  prime\n",
            "90 is not  prime\n",
            "91 is not  prime\n",
            "92 is not  prime\n",
            "93 is not  prime\n",
            "94 is not  prime\n",
            "95 is not  prime\n",
            "96 is not  prime\n",
            "97 is  prime\n",
            "98 is not  prime\n",
            "99 is not  prime\n",
            "100 is not  prime\n",
            "101 is  prime\n",
            "102 is not  prime\n",
            "103 is  prime\n",
            "104 is not  prime\n",
            "105 is not  prime\n",
            "106 is not  prime\n",
            "107 is  prime\n",
            "108 is not  prime\n",
            "109 is  prime\n",
            "110 is not  prime\n",
            "111 is not  prime\n",
            "112 is not  prime\n",
            "113 is  prime\n",
            "114 is not  prime\n",
            "115 is not  prime\n",
            "116 is not  prime\n",
            "117 is not  prime\n",
            "118 is not  prime\n",
            "119 is not  prime\n",
            "120 is not  prime\n",
            "121 is not  prime\n",
            "122 is not  prime\n",
            "123 is not  prime\n",
            "124 is not  prime\n",
            "125 is not  prime\n",
            "126 is not  prime\n",
            "127 is  prime\n",
            "128 is not  prime\n",
            "129 is not  prime\n",
            "130 is not  prime\n",
            "131 is  prime\n",
            "132 is not  prime\n",
            "133 is not  prime\n",
            "134 is not  prime\n",
            "135 is not  prime\n",
            "136 is not  prime\n",
            "137 is  prime\n",
            "138 is not  prime\n",
            "139 is  prime\n",
            "140 is not  prime\n",
            "141 is not  prime\n",
            "142 is not  prime\n",
            "143 is not  prime\n",
            "144 is not  prime\n",
            "145 is not  prime\n",
            "146 is not  prime\n",
            "147 is not  prime\n",
            "148 is not  prime\n",
            "149 is  prime\n",
            "150 is not  prime\n",
            "151 is  prime\n",
            "152 is not  prime\n",
            "153 is not  prime\n",
            "154 is not  prime\n",
            "155 is not  prime\n",
            "156 is not  prime\n",
            "157 is  prime\n",
            "158 is not  prime\n",
            "159 is not  prime\n",
            "160 is not  prime\n",
            "161 is not  prime\n",
            "162 is not  prime\n",
            "163 is  prime\n",
            "164 is not  prime\n",
            "165 is not  prime\n",
            "166 is not  prime\n",
            "167 is  prime\n",
            "168 is not  prime\n",
            "169 is not  prime\n",
            "170 is not  prime\n",
            "171 is not  prime\n",
            "172 is not  prime\n",
            "173 is  prime\n",
            "174 is not  prime\n",
            "175 is not  prime\n",
            "176 is not  prime\n",
            "177 is not  prime\n",
            "178 is not  prime\n",
            "179 is  prime\n",
            "180 is not  prime\n",
            "181 is  prime\n",
            "182 is not  prime\n",
            "183 is not  prime\n",
            "184 is not  prime\n",
            "185 is not  prime\n",
            "186 is not  prime\n",
            "187 is not  prime\n",
            "188 is not  prime\n",
            "189 is not  prime\n",
            "190 is not  prime\n",
            "191 is  prime\n",
            "192 is not  prime\n",
            "193 is  prime\n",
            "194 is not  prime\n",
            "195 is not  prime\n",
            "196 is not  prime\n",
            "197 is  prime\n",
            "198 is not  prime\n",
            "199 is  prime\n"
          ]
        }
      ]
    },
    {
      "cell_type": "markdown",
      "source": [
        "### 5).**bold text** Create an iterator class in Python that generates the Fibonacci sequence up to a specified number of terms"
      ],
      "metadata": {
        "id": "qsS3N5lqC4cx"
      },
      "id": "qsS3N5lqC4cx"
    },
    {
      "cell_type": "code",
      "source": [
        "def fibo(n):\n",
        "    a,b=0,1\n",
        "    for i in range(n):\n",
        "        yield a\n",
        "        a,b=b,a+b\n",
        "fib=fibo(10)\n",
        "for i in fib:\n",
        "    print(i)\n",
        "\n"
      ],
      "metadata": {
        "colab": {
          "base_uri": "https://localhost:8080/"
        },
        "id": "EQdxIGh_9_56",
        "outputId": "779de8c5-dcd2-4bcc-95c0-02e7536f5269"
      },
      "id": "EQdxIGh_9_56",
      "execution_count": null,
      "outputs": [
        {
          "output_type": "stream",
          "name": "stdout",
          "text": [
            "0\n",
            "1\n",
            "1\n",
            "2\n",
            "3\n",
            "5\n",
            "8\n",
            "13\n",
            "21\n",
            "34\n"
          ]
        }
      ]
    },
    {
      "cell_type": "markdown",
      "source": [
        "### 6). Write a generator function in Python that yields the powers of 2 up to a given exponent"
      ],
      "metadata": {
        "id": "-Z3ujntv83Jw"
      },
      "id": "-Z3ujntv83Jw"
    },
    {
      "cell_type": "code",
      "source": [
        "def power_of_two(n):\n",
        "  for i in range(n):\n",
        "    yield 2**i\n",
        "power=power_of_two(8)\n",
        "for num in power:\n",
        "  print(num)"
      ],
      "metadata": {
        "colab": {
          "base_uri": "https://localhost:8080/"
        },
        "id": "P0cc-SiRATPe",
        "outputId": "9f908c1d-d776-4779-b922-66c6aca20230"
      },
      "id": "P0cc-SiRATPe",
      "execution_count": null,
      "outputs": [
        {
          "output_type": "stream",
          "name": "stdout",
          "text": [
            "1\n",
            "2\n",
            "4\n",
            "8\n",
            "16\n",
            "32\n",
            "64\n",
            "128\n"
          ]
        }
      ]
    },
    {
      "cell_type": "markdown",
      "source": [
        "### 7). Implement a generator function that reads a file line by line and yields each line as a string."
      ],
      "metadata": {
        "id": "VFJtTP5S87D6"
      },
      "id": "VFJtTP5S87D6"
    },
    {
      "cell_type": "markdown",
      "source": [
        "### 8). Use a lambda function in Python to sort a list of tuples based on the second element of each tuple."
      ],
      "metadata": {
        "id": "9MvL3TMC9C7u"
      },
      "id": "9MvL3TMC9C7u"
    },
    {
      "cell_type": "code",
      "source": [
        "list1=[('Sachin Tendulkar', 34357), ('Ricky Ponting', 27483), ('Jack Kallis', 25534), ('Virat Kohli', 24936),('M.S.Dhoni',24658)]\n",
        "sorted( list1,key= lambda x:x[1])\n"
      ],
      "metadata": {
        "colab": {
          "base_uri": "https://localhost:8080/"
        },
        "id": "eYhh_cEBBCWy",
        "outputId": "0a213d8b-c5c0-45d2-c575-fd37114051bc"
      },
      "id": "eYhh_cEBBCWy",
      "execution_count": null,
      "outputs": [
        {
          "output_type": "execute_result",
          "data": {
            "text/plain": [
              "[('M.S.Dhoni', 24658),\n",
              " ('Virat Kohli', 24936),\n",
              " ('Jack Kallis', 25534),\n",
              " ('Ricky Ponting', 27483),\n",
              " ('Sachin Tendulkar', 34357)]"
            ]
          },
          "metadata": {},
          "execution_count": 25
        }
      ]
    },
    {
      "cell_type": "markdown",
      "source": [
        "### 9). Write a Python program that uses `map()` to convert a list of temperatures from Celsius to Fahrenheit"
      ],
      "metadata": {
        "id": "NIMR4UQE9LPB"
      },
      "id": "NIMR4UQE9LPB"
    },
    {
      "cell_type": "code",
      "source": [
        "temprature=[39.2, 36.5, 37.3, 37.8, 39.2, 35.7,45,35,42,42.6]\n",
        "fahrenheit=list(map((lambda x: x*(9/5)+32),temprature))\n",
        "print(fahrenheit)"
      ],
      "metadata": {
        "colab": {
          "base_uri": "https://localhost:8080/"
        },
        "id": "zmZhCZM0Eng2",
        "outputId": "5835cd81-d33a-492b-adb6-04b1f19c3fb2"
      },
      "id": "zmZhCZM0Eng2",
      "execution_count": null,
      "outputs": [
        {
          "output_type": "stream",
          "name": "stdout",
          "text": [
            "[102.56, 97.7, 99.14, 100.03999999999999, 102.56, 96.26, 113.0, 95.0, 107.60000000000001, 108.68]\n"
          ]
        }
      ]
    },
    {
      "cell_type": "markdown",
      "source": [],
      "metadata": {
        "id": "_PPeYx2aElVu"
      },
      "id": "_PPeYx2aElVu"
    },
    {
      "cell_type": "markdown",
      "source": [
        "### 10). Create a Python program that uses `filter()` to remove all the vowels from a given string"
      ],
      "metadata": {
        "id": "9_wJnDE09Qvb"
      },
      "id": "9_wJnDE09Qvb"
    },
    {
      "cell_type": "code",
      "source": [
        "string=\"welcome to python\"\n",
        "new_string=''.join(filter((lambda x : x  not in 'AEIOUaeiou'),string))\n",
        "print(new_string)"
      ],
      "metadata": {
        "colab": {
          "base_uri": "https://localhost:8080/"
        },
        "id": "-u_myd0gKRuy",
        "outputId": "2a67ced6-b7fa-4476-dc20-68d90543f313"
      },
      "id": "-u_myd0gKRuy",
      "execution_count": null,
      "outputs": [
        {
          "output_type": "stream",
          "name": "stdout",
          "text": [
            "wlcm t pythn\n"
          ]
        }
      ]
    },
    {
      "cell_type": "code",
      "source": [
        "\n",
        "def remove_vowels(s='hello'):\n",
        "  updated_string=''\n",
        "  vowels='AEIOUaeiou'\n",
        "  for char in s:\n",
        "    if char not in vowels:\n",
        "      updated_string+=char\n",
        "  return updated_string\n",
        "#remove_vowels('hello')\n",
        "s='welcome'\n",
        "l=''.join(filter(lambda x: remove_vowels(x),s))\n",
        "print(l)\n"
      ],
      "metadata": {
        "colab": {
          "base_uri": "https://localhost:8080/"
        },
        "id": "wMNleh1KGgJN",
        "outputId": "c171c914-6d86-40be-e26e-3444ec4d1da1"
      },
      "id": "wMNleh1KGgJN",
      "execution_count": null,
      "outputs": [
        {
          "output_type": "stream",
          "name": "stdout",
          "text": [
            "wlcm\n"
          ]
        }
      ]
    },
    {
      "cell_type": "code",
      "source": [],
      "metadata": {
        "id": "CiOPm0loJQQz"
      },
      "id": "CiOPm0loJQQz",
      "execution_count": null,
      "outputs": []
    },
    {
      "cell_type": "markdown",
      "source": [
        "### 11) Imagine an accounting routine used in a book shop. It works on a list with sublists, which look like this Write a Python program, which returns a list with 2-tuples.\n",
        "### Each tuple consists of the order number and the product of the price per item and the quantity. The product should be increased by 10,- € if the value of the order is smaller than 100,00 €"
      ],
      "metadata": {
        "id": "77_Qn_d_9Y4f"
      },
      "id": "77_Qn_d_9Y4f"
    },
    {
      "cell_type": "code",
      "source": [],
      "metadata": {
        "id": "CDD0SGyiUB5O"
      },
      "id": "CDD0SGyiUB5O",
      "execution_count": null,
      "outputs": []
    },
    {
      "cell_type": "markdown",
      "source": [
        "### 12). Write a Python program using lambda and map."
      ],
      "metadata": {
        "id": "-CRsNrJa9rve"
      },
      "id": "-CRsNrJa9rve"
    },
    {
      "cell_type": "markdown",
      "source": [],
      "metadata": {
        "id": "IERbdvW89Iu9"
      },
      "id": "IERbdvW89Iu9"
    },
    {
      "cell_type": "code",
      "source": [
        "### to print cube of each number in list\n",
        "l=[1,2,3,4,5,6,7,8,9,10]\n",
        "list(map(lambda x:x**3,l))"
      ],
      "metadata": {
        "colab": {
          "base_uri": "https://localhost:8080/"
        },
        "id": "OWs5DQkc7HJe",
        "outputId": "2fee9e1a-e1e9-4e8a-cb46-a73295d749e2"
      },
      "id": "OWs5DQkc7HJe",
      "execution_count": null,
      "outputs": [
        {
          "output_type": "execute_result",
          "data": {
            "text/plain": [
              "[1, 8, 27, 64, 125, 216, 343, 512, 729, 1000]"
            ]
          },
          "metadata": {},
          "execution_count": 78
        }
      ]
    },
    {
      "cell_type": "code",
      "source": [],
      "metadata": {
        "id": "w709e32YQdek"
      },
      "id": "w709e32YQdek",
      "execution_count": null,
      "outputs": []
    },
    {
      "cell_type": "code",
      "source": [
        "10"
      ],
      "metadata": {
        "id": "xvjeNpub7_ZE"
      },
      "id": "xvjeNpub7_ZE",
      "execution_count": null,
      "outputs": []
    }
  ],
  "metadata": {
    "kernelspec": {
      "display_name": "Python 3 (ipykernel)",
      "language": "python",
      "name": "python3"
    },
    "language_info": {
      "codemirror_mode": {
        "name": "ipython",
        "version": 3
      },
      "file_extension": ".py",
      "mimetype": "text/x-python",
      "name": "python",
      "nbconvert_exporter": "python",
      "pygments_lexer": "ipython3",
      "version": "3.11.7"
    },
    "colab": {
      "provenance": [],
      "include_colab_link": true
    }
  },
  "nbformat": 4,
  "nbformat_minor": 5
}